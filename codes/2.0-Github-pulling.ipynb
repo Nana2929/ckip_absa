{
 "cells": [
  {
   "cell_type": "code",
   "execution_count": 6,
   "id": "feda664d-596c-4001-92c9-060dda8997c1",
   "metadata": {},
   "outputs": [
    {
     "name": "stdout",
     "output_type": "stream",
     "text": [
      "HEAD is now at 7e13dc4 Create merged_food_list.csv\n"
     ]
    },
    {
     "name": "stderr",
     "output_type": "stream",
     "text": [
      "From https://github.com/Nana2929/ckip_absa\n",
      " * branch            HEAD       -> FETCH_HEAD\n"
     ]
    }
   ],
   "source": [
    "%%bash\n",
    "cd ../repo/\n",
    "git fetch https://github.com/Nana2929/ckip_absa\n",
    "git reset --hard origin/master"
   ]
  },
  {
   "cell_type": "code",
   "execution_count": null,
   "id": "ebdfdd6b-247a-4e19-aebf-fda30cdfb9b6",
   "metadata": {},
   "outputs": [],
   "source": []
  },
  {
   "cell_type": "code",
   "execution_count": 35,
   "id": "3a989ac0-09f8-4bed-862f-9e7a3ceab0bd",
   "metadata": {},
   "outputs": [
    {
     "name": "stdout",
     "output_type": "stream",
     "text": [
      "Fetching origin\n",
      "Merge made by the 'recursive' strategy.\n",
      " data/cvaw4.csv | 5513 ++++++++++++++++++++++++++++++++++++++++++++++++++++++++\n",
      " 1 file changed, 5513 insertions(+)\n",
      " create mode 100644 data/cvaw4.csv\n"
     ]
    },
    {
     "name": "stderr",
     "output_type": "stream",
     "text": [
      "From https://github.com/Nana2929/ckip_absa\n",
      "   1a51306..65e4fe0  main       -> origin/main\n"
     ]
    }
   ],
   "source": [
    "%%bash\n",
    "cd ../repo/\n",
    "git config --global user.email \"b06102020@ntu.edu.tw\"\n",
    "git config --global user.name \"Nana2929\"\n",
    "# git rm data/merged_food_list.csv\n",
    "# git commit -m \"solving conflicts\"\n",
    "git pull --all --allow-unrelated-histories"
   ]
  },
  {
   "cell_type": "code",
   "execution_count": null,
   "id": "8bc0dcc9-d214-4113-b191-bff9a0ba6386",
   "metadata": {},
   "outputs": [],
   "source": [
    "filepath = '../repo/review_clean_parsed.csv'"
   ]
  },
  {
   "cell_type": "code",
   "execution_count": null,
   "id": "56d5fc44-df43-48a2-b597-7e442a65501e",
   "metadata": {},
   "outputs": [],
   "source": []
  }
 ],
 "metadata": {
  "kernelspec": {
   "display_name": "Python 3",
   "language": "python",
   "name": "python3"
  },
  "language_info": {
   "codemirror_mode": {
    "name": "ipython",
    "version": 3
   },
   "file_extension": ".py",
   "mimetype": "text/x-python",
   "name": "python",
   "nbconvert_exporter": "python",
   "pygments_lexer": "ipython3",
   "version": "3.6.9"
  }
 },
 "nbformat": 4,
 "nbformat_minor": 5
}
