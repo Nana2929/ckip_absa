{
 "cells": [
  {
   "cell_type": "code",
   "execution_count": 10,
   "id": "bda7261a-2270-4a61-988e-f2f8e0f4059f",
   "metadata": {},
   "outputs": [
    {
     "data": {
      "text/plain": [
       "'<<,>'"
      ]
     },
     "execution_count": 10,
     "metadata": {},
     "output_type": "execute_result"
    }
   ],
   "source": [
    "import re\n",
    "regexpat = r'\\<(.*?)\\>'\n",
    "match = re.match(regexpat, '<<,>>')\n",
    "match.group()"
   ]
  },
  {
   "cell_type": "code",
   "execution_count": null,
   "id": "cccb2caa-1d3a-4557-8663-d12a37b261b5",
   "metadata": {},
   "outputs": [],
   "source": []
  }
 ],
 "metadata": {
  "kernelspec": {
   "display_name": "Python 3",
   "language": "python",
   "name": "python3"
  },
  "language_info": {
   "codemirror_mode": {
    "name": "ipython",
    "version": 3
   },
   "file_extension": ".py",
   "mimetype": "text/x-python",
   "name": "python",
   "nbconvert_exporter": "python",
   "pygments_lexer": "ipython3",
   "version": "3.6.9"
  }
 },
 "nbformat": 4,
 "nbformat_minor": 5
}
