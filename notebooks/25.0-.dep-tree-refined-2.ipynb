{
 "cells": [
  {
   "cell_type": "markdown",
   "id": "6521738a-f27a-47e1-be42-466fa8229cd7",
   "metadata": {},
   "source": [
    "## 25.0 Refining Chinese rule-based ABSA\n",
    "\n",
    "- Author: Nana (Ching Wen Yang)\n",
    "- Created at: 2022.08.01\n",
    "\n",
    "**Goals**\n",
    "- Refine by dependency by POS tags\n",
    "**Reference**\n",
    "- CKIP part of speech tagging scheme: https://ckip.iis.sinica.edu.tw/CKIP/paper/Sinica%20Corpus%20user%20manual.pdf\n",
    "    - Na: Common Noun\n",
    "    - Nb: Proper Noun\n",
    "    - Nc: Place Noun\n",
    "    - Nd: Time Noun\n"
   ]
  },
  {
   "cell_type": "code",
   "execution_count": 1,
   "id": "85b19ceb-002d-4894-8794-802055271b2e",
   "metadata": {},
   "outputs": [],
   "source": [
    "import sys, os\n",
    "import pandas as pd"
   ]
  },
  {
   "cell_type": "markdown",
   "id": "849d1221-d1aa-4378-b655-d8569e467bd3",
   "metadata": {},
   "source": [
    "### parsing sents to dep trees"
   ]
  },
  {
   "cell_type": "code",
   "execution_count": 2,
   "id": "2e0d11a3-8d36-4638-b0c1-174b574f2711",
   "metadata": {},
   "outputs": [],
   "source": [
    "%load_ext autoreload\n",
    "%autoreload 2"
   ]
  },
  {
   "cell_type": "code",
   "execution_count": 3,
   "id": "80a65f25-aee3-4875-8fd8-1c77124cc5a8",
   "metadata": {},
   "outputs": [],
   "source": [
    "'''path of source codes'''\n",
    "\n",
    "root_path = '/share/home/nana2929/'\n",
    "DepTree_path = '/share/home/nana2929/repo/src/'\n",
    "for x in [root_path, DepTree_path]:\n",
    "    if x not in sys.path:\n",
    "        sys.path.append(x)\n",
    "\n",
    "import chyiin_ch_parser\n",
    "from chyiin_ch_parser import dependency_parser\n",
    "from DepTree import DepTree\n",
    "ch_parser = dependency_parser.chinese_parser(port=2022, device_id=1) # the port that server_process runs on "
   ]
  },
  {
   "cell_type": "code",
   "execution_count": 44,
   "id": "c62f99b3-57e2-4e1a-9f9e-0f85e5464527",
   "metadata": {},
   "outputs": [],
   "source": [
    "test_sents = ['西瓜很好吃，老闆娘人很好。', '服務很可以',\n",
    "              '蛋黃酥和蘿蔔糕很好吃，清蒸鱸魚不太新鮮。老闆娘人很好。',\n",
    "              '推薦苦瓜，但可以不要一直催人結帳嗎。', \n",
    "              '水餃和湯都不錯，但小菜不太好吃', '雞肉和大滷麵都不喜歡', '一顆的份量就好大一個，還吃的到干貝一絲一絲的',\n",
    "              '食物部分很讚！也很平價，薯餅塔很推薦，裡面還有牽長長的乳酪絲，泡菜燒肉蛋餅很入味',\n",
    "             '湯喝起來濃郁卻不膩，可以一口接一口喝。',\n",
    "             '整體吃下來口味偏鹹完全不需要加任何醬料，必須配很多飯才會爽。', \n",
    "              '宮保蝦球很辣，麻香。其他都好吃。',\n",
    "             '推薦的：鹹蛋苦瓜、煎豬肝、炒菜類、老皮嫩豆腐、松阪豬肉、金沙南瓜、炒海瓜子等',\n",
    "              '三杯中卷裡面的中卷很少，大多是薑片跟洋蔥，不過這個價格也是可以了。',\n",
    "              '口味稍偏重，每道菜的配料都很足，但超適合配飯，佐料自取吃到飽很貼心，有機會會再訪',\n",
    "              '出餐快、口味濃、氣氛佳，適合大吃大喝、放心喧嘩的好地方↖(^ω^)↗',\n",
    "             '最愛老皮嫩肉跟炒羊肉平價又好吃']"
   ]
  },
  {
   "cell_type": "code",
   "execution_count": 45,
   "id": "df4d7338-eaef-49a2-a7eb-4b87af5730d7",
   "metadata": {},
   "outputs": [],
   "source": [
    "store = {}\n",
    "for test_sent in test_sents:\n",
    "    ws, pos, deptree = ch_parser.output(test_sent)  \n",
    "    store[test_sent] = (ws, pos, deptree)"
   ]
  },
  {
   "cell_type": "markdown",
   "id": "e7aefa84-87e5-4b0a-a15e-2dc01272918b",
   "metadata": {
    "jp-MarkdownHeadingCollapsed": true,
    "tags": []
   },
   "source": [
    "### 0628爬的松園牛肉麵評論"
   ]
  },
  {
   "cell_type": "code",
   "execution_count": 6,
   "id": "ea6bac0f-0efb-462e-8e14-913f5b15d42a",
   "metadata": {},
   "outputs": [],
   "source": [
    "filepath = f'../data/0628-beef-noodles/review_clean_parsed.pkl'\n",
    "df = pd.read_pickle(filepath)"
   ]
  },
  {
   "cell_type": "code",
   "execution_count": 7,
   "id": "f5a87552-14d8-4cdc-a2f6-852e2ec6d58b",
   "metadata": {},
   "outputs": [
    {
     "name": "stderr",
     "output_type": "stream",
     "text": [
      "INFO:root:== DepTree ==\n",
      "INFO:root:attrs:    \t .pos, .ws, .depparse, .dG, .undG, .aspects, .opinions\n",
      "INFO:root:functions:\t predict(), to_image()\n",
      "INFO:root:finished loading aspect lexicon.\n",
      "INFO:root:finished loading opinion lexicon.\n"
     ]
    },
    {
     "name": "stdout",
     "output_type": "stream",
     "text": [
      "78\n",
      "[(0, 'root root'), (1, '值得 VH'), (2, '再 D'), (3, '訪 VC'), (4, '的 DE'), (5, '店 Nc')]\n",
      "[('5 - 店 Nc', '1 - 值得 VH', 'rcmod'), ('1 - 值得 VH', '2 - 再 D', 'advmod'), ('1 - 值得 VH', '3 - 訪 VC', 'ccomp'), ('1 - 值得 VH', '4 - 的 DE', 'cpm'), ('0 - root root', '5 - 店 Nc', 'root')]\n"
     ]
    },
    {
     "name": "stderr",
     "output_type": "stream",
     "text": [
      "INFO:root:[lexicon-based] detected aspects: []\n",
      "INFO:root:[lexicon-based] detected opinions: [{'id': 1, 'token': '值得', 'polarity': 'positive'}]\n",
      "INFO:root:marking: [] for aspect; <> for opinion\n"
     ]
    },
    {
     "data": {
      "text/plain": [
       "(defaultdict(list, {}), '值得再訪的店')"
      ]
     },
     "execution_count": 7,
     "metadata": {},
     "output_type": "execute_result"
    }
   ],
   "source": [
    "# s, (ws, pos, tree) = list(store.items())[8] # 不太好：5, # '其他 Neqa'不在我定義的Nouns裡\n",
    "# r = {'sentence': s,\n",
    "#     'word_seg': ws,\n",
    "#     'pos': pos, \n",
    "#     'dependency_parse': tree}\n",
    "filepath = f'../data/0628-beef-noodles/review_clean_parsed.pkl'\n",
    "import random \n",
    "rindex = random.randint(0, len(df)-1)\n",
    "print(rindex)\n",
    "df = pd.read_pickle(filepath) # 不是neg抓不出來...(parser給標籤的問題）\n",
    "row = df.iloc[rindex]\n",
    "print(row['pos'])\n",
    "print(row['dependency_parse'])\n",
    "tree = DepTree(row, outdir = './')\n",
    "tree.predict()"
   ]
  },
  {
   "cell_type": "markdown",
   "id": "579afe4f-9133-422c-bae2-ac65915f9d7d",
   "metadata": {
    "jp-MarkdownHeadingCollapsed": true,
    "tags": []
   },
   "source": [
    "### 0705 測試 negation, conjunction 用的自製評論"
   ]
  },
  {
   "cell_type": "code",
   "execution_count": 34,
   "id": "c7c8a822-3378-4fcc-abb2-8a23181ea8a1",
   "metadata": {},
   "outputs": [
    {
     "name": "stderr",
     "output_type": "stream",
     "text": [
      "INFO:root:== DepTree ==\n",
      "INFO:root:attrs:    \t .pos, .ws, .depparse, .dG, .undG, .aspects, .opinions\n",
      "INFO:root:functions:\t predict(), to_image()\n",
      "INFO:root:finished loading aspect lexicon.\n",
      "INFO:root:finished loading opinion lexicon.\n"
     ]
    },
    {
     "name": "stdout",
     "output_type": "stream",
     "text": [
      "12\n",
      "[(0, 'root root'), (1, '水餃 Na'), (2, '和 Caa'), (3, '湯 Na'), (4, '都 D'), (5, '不錯 VH'), (6, '， COMMACATEGORY'), (7, '但 Cbb'), (8, '小菜 Na'), (9, '口感 Na'), (10, '很 Dfa'), (11, '差 VH')]\n",
      "[('3 - 湯 Na', '1 - 水餃 Na', 'conj'), ('3 - 湯 Na', '2 - 和 Caa', 'cc'), ('5 - 不錯 VH', '3 - 湯 Na', 'nsubj'), ('5 - 不錯 VH', '4 - 都 D', 'advmod'), ('0 - root root', '5 - 不錯 VH', 'root'), ('5 - 不錯 VH', '6 - ， COMMACATEGORY', 'punct'), ('11 - 差 VH', '7 - 但 Cbb', 'advmod'), ('11 - 差 VH', '8 - 小菜 Na', 'amod'), ('11 - 差 VH', '9 - 口感 Na', 'nsubj'), ('11 - 差 VH', '10 - 很 Dfa', 'advmod'), ('5 - 不錯 VH', '11 - 差 VH', 'conj')]\n"
     ]
    },
    {
     "name": "stderr",
     "output_type": "stream",
     "text": [
      "INFO:root:[lexicon-based] detected aspects: [{'id': 1, 'token': '水餃'}, {'id': 3, 'token': '湯'}, {'id': 8, 'token': '小菜'}]\n",
      "INFO:root:[lexicon-based] detected opinions: [{'id': 5, 'token': '不錯', 'polarity': 'neutral'}, {'id': 11, 'token': '差', 'polarity': 'negative'}]\n",
      "INFO:root:[Rule 1] Detect NOUN neighbor in subtree; new aspect 湯 is added.\n",
      "INFO:root:[Rule 1] Detect NOUN neighbor in subtree; new aspect 小菜 is added.\n",
      "INFO:root:[Rule 1] Detect NOUN neighbor in subtree; new aspect 口感 is added.\n",
      "INFO:root:[Rule 2] Detect conjunction beween existing aspect 湯 and node 和; new aspect 和 is added.\n",
      "INFO:root:marking: [] for aspect; <> for opinion\n"
     ]
    },
    {
     "data": {
      "text/plain": [
       "(defaultdict(list,\n",
       "             {'和': [('不錯', 'neutral')],\n",
       "              '湯': [('不錯', 'neutral')],\n",
       "              '小菜': [('差', 'negative')],\n",
       "              '口感': [('差', 'negative')]}),\n",
       " '水餃[和][湯]都<不錯>，但[小菜][口感]很<差>')"
      ]
     },
     "execution_count": 34,
     "metadata": {},
     "output_type": "execute_result"
    }
   ],
   "source": [
    "import random\n",
    "filepath = f'../data/0705-special-cases/0705-dep-testdata_parsed.pkl' \n",
    "df = pd.read_pickle(filepath)\n",
    "rindex = random.randint(0, len(df)-1)\n",
    "print(rindex)\n",
    "row = df.iloc[rindex]\n",
    "print(row['pos'])\n",
    "print(row['dependency_parse'])\n",
    "tree = DepTree(row, outdir = './')\n",
    "tree.predict()"
   ]
  },
  {
   "cell_type": "code",
   "execution_count": 35,
   "id": "a0a84142-4c8b-4b9b-b11b-bb8090a2c162",
   "metadata": {},
   "outputs": [
    {
     "data": {
      "image/png": "[encoded data removed]",
      "text/plain": [
       "<IPython.core.display.Image object>"
      ]
     },
     "metadata": {},
     "output_type": "display_data"
    }
   ],
   "source": [
    "tree.to_image()"
   ]
  },
  {
   "cell_type": "markdown",
   "id": "f90fd841-e90b-4b9e-b73e-58e4730fee9a",
   "metadata": {},
   "source": [
    "### 0801自己找的一些評論 \n",
    "老師的例子、Google上抓一些\n"
   ]
  },
  {
   "cell_type": "code",
   "execution_count": 48,
   "id": "b4ebcd30-4a62-45a1-8873-159695a1a6ea",
   "metadata": {},
   "outputs": [
    {
     "name": "stderr",
     "output_type": "stream",
     "text": [
      "INFO:root:== DepTree ==\n",
      "INFO:root:attrs:    \t .pos, .ws, .depparse, .dG, .undG, .aspects, .opinions\n",
      "INFO:root:functions:\t predict(), to_image()\n",
      "INFO:root:finished loading aspect lexicon.\n",
      "INFO:root:finished loading opinion lexicon.\n"
     ]
    },
    {
     "name": "stdout",
     "output_type": "stream",
     "text": [
      "rindex_ 8\n",
      "[(0, 'root root'), (1, '蛋黃酥 Na'), (2, '和 Caa'), (3, '蘿蔔糕 Na'), (4, '很 Dfa'), (5, '好吃 VH'), (6, '， COMMACATEGORY'), (7, '清蒸鱸魚 Na'), (8, '不 D'), (9, '太 Dfa'), (10, '新鮮 VH'), (11, '。 PERIODCATEGORY'), (12, '老闆娘人 Na'), (13, '很 Dfa'), (14, '好 VH'), (15, '。 PERIODCATEGORY')]\n"
     ]
    },
    {
     "name": "stderr",
     "output_type": "stream",
     "text": [
      "INFO:root:[lexicon-based] detected aspects: [{'id': 3, 'token': '蘿蔔糕'}]\n",
      "INFO:root:[lexicon-based] detected opinions: [{'id': 5, 'token': '好吃', 'polarity': 'positive'}, {'id': 10, 'token': '新鮮', 'polarity': 'positive'}, {'id': 14, 'token': '好', 'polarity': 'positive'}]\n",
      "INFO:root:[Rule 1] Detect NOUN neighbor in subtree; new aspect 蘿蔔糕 is added.\n",
      "INFO:root:[Rule 1] Detect NOUN neighbor in subtree; new aspect 清蒸鱸魚 is added.\n",
      "INFO:root:[Rule 1] Detect NOUN neighbor in subtree; new aspect 老闆娘人 is added.\n",
      "INFO:root:[Rule 3] Detect negation on 新鮮; polarity is reversed.\n",
      "INFO:root:[Rule 2] Detect conjunction beween existing aspect 蘿蔔糕 and node 蛋黃酥; new aspect 蛋黃酥 is added.\n",
      "INFO:root:marking: [] for aspect; <> for opinion\n"
     ]
    },
    {
     "data": {
      "text/plain": [
       "(defaultdict(list,\n",
       "             {'蛋黃酥': [('好吃', 'positive')],\n",
       "              '蘿蔔糕': [('好吃', 'positive')],\n",
       "              '清蒸鱸魚': [('不新鮮', 'negative')],\n",
       "              '老闆娘人': [('好', 'positive')]}),\n",
       " '[蛋黃酥]和[蘿蔔糕]很<好吃>，[清蒸鱸魚]<不>太<新鮮>。[老闆娘人]很<好>。')"
      ]
     },
     "execution_count": 48,
     "metadata": {},
     "output_type": "execute_result"
    }
   ],
   "source": [
    "rindex_ = random.randint(0, len(test_sents)-1) \n",
    "print(f'rindex_ {rindex_}')\n",
    "s, (ws, pos, tree) = list(store.items())[2] \n",
    "print(pos)\n",
    "# good: 0 (老師給的例子), 1, 2, 5 (rule 1)\n",
    "# not so good: 4 ('其他 Neqa'不在我定義的Nouns裡), \n",
    "# not so good: 12 用文字距離去停止opinion-aspect太長距離的連結\n",
    "\n",
    "r = {'sentence': s,\n",
    "    'word_seg': ws,\n",
    "    'pos': pos, \n",
    "    'dependency_parse': tree}\n",
    "tree = DepTree(r, outdir = './')\n",
    "tree.predict()"
   ]
  },
  {
   "cell_type": "code",
   "execution_count": 49,
   "id": "eb656907-6927-4b57-b2a5-765e6407cbef",
   "metadata": {},
   "outputs": [
    {
     "data": {
      "image/png": "[encoded data removed]",
      "text/plain": [
       "<IPython.core.display.Image object>"
      ]
     },
     "metadata": {},
     "output_type": "display_data"
    }
   ],
   "source": [
    "tree.to_image()"
   ]
  },
  {
   "cell_type": "markdown",
   "id": "12a5beaf-fb61-4c78-a463-4ceb091a70d9",
   "metadata": {},
   "source": [
    "### output"
   ]
  },
  {
   "cell_type": "code",
   "execution_count": 11,
   "id": "53bb7e47-7bdf-4284-a45d-8ac8f24dc1e7",
   "metadata": {},
   "outputs": [],
   "source": [
    "# 做成dictionary"
   ]
  },
  {
   "cell_type": "markdown",
   "id": "aa5ff183-e61a-4cc5-a324-fca6ed4034cb",
   "metadata": {},
   "source": [
    "### test subtree algorithms"
   ]
  },
  {
   "cell_type": "code",
   "execution_count": 12,
   "id": "1e0be3e3-a615-4705-86e8-dd6dccdc66e5",
   "metadata": {},
   "outputs": [
    {
     "name": "stdout",
     "output_type": "stream",
     "text": [
      "[(0, 'root', 'root'), (1, '最愛', 'Na'), (2, '老皮嫩肉', 'Na'), (3, '跟', 'Caa'), (4, '炒', 'VC'), (5, '羊肉', 'Na'), (6, '平價', 'Na'), (7, '又', 'D'), (8, '好吃', 'VH')]\n"
     ]
    }
   ],
   "source": [
    "from networkx.algorithms.traversal.depth_first_search import dfs_tree\n",
    "print(tree.nodes)\n",
    "subtree_at3 = dfs_tree(tree.dG, 3) # 好吃\n",
    "subtree_at7 = dfs_tree(tree.dG, 7) # 好"
   ]
  },
  {
   "cell_type": "code",
   "execution_count": 13,
   "id": "06aec601-fb98-4b9c-b3d8-7dd748c421c7",
   "metadata": {},
   "outputs": [
    {
     "data": {
      "text/plain": [
       "NodeView((3,))"
      ]
     },
     "execution_count": 13,
     "metadata": {},
     "output_type": "execute_result"
    }
   ],
   "source": [
    "# test subtree \n",
    "subtree_at3.nodes"
   ]
  },
  {
   "cell_type": "code",
   "execution_count": 14,
   "id": "f727d554-73ba-4e1d-9de3-d3d4c5f12295",
   "metadata": {},
   "outputs": [
    {
     "data": {
      "text/plain": [
       "NodeView((7,))"
      ]
     },
     "execution_count": 14,
     "metadata": {},
     "output_type": "execute_result"
    }
   ],
   "source": [
    "subtree_at7.nodes"
   ]
  }
 ],
 "metadata": {
  "kernelspec": {
   "display_name": "Python 3",
   "language": "python",
   "name": "python3"
  },
  "language_info": {
   "codemirror_mode": {
    "name": "ipython",
    "version": 3
   },
   "file_extension": ".py",
   "mimetype": "text/x-python",
   "name": "python",
   "nbconvert_exporter": "python",
   "pygments_lexer": "ipython3",
   "version": "3.6.9"
  }
 },
 "nbformat": 4,
 "nbformat_minor": 5
}
