{
 "cells": [
  {
   "cell_type": "markdown",
   "id": "afde2f8b-4685-4cb8-93fb-26ae212848a6",
   "metadata": {},
   "source": [
    "## 8.0 Dep Trees EDA \n",
    "1. Before dealing with 3 special cases listed @\n",
    "[Meeting Minutes](https://docs.google.com/document/d/17dW7Ez8wbULITSe6E5FWNudWOelQmqiWVbFqYe4M15Y/edit#heading=h.xjm3avffkonu), check the trees by printing them out. \n",
    "2. Data used is @ [ckip_absa/0705-dep-testdata](https://docs.google.com/spreadsheets/d/1C12yZS3VPME9N3G_RQjZ3y3rNpKF9AGIOFCNiKm-TzE/edit#gid=0)\n",
    "3. Detection -> Processing "
   ]
  },
  {
   "cell_type": "code",
   "execution_count": 1,
   "id": "db4df504-00c1-4c56-8ff2-edfea96a572f",
   "metadata": {},
   "outputs": [],
   "source": [
    "%load_ext autoreload\n",
    "%autoreload 2"
   ]
  },
  {
   "cell_type": "code",
   "execution_count": 2,
   "id": "ccf8aa85-03f6-4fb5-86c2-b780df013242",
   "metadata": {},
   "outputs": [],
   "source": [
    "# at your repo/codes level"
   ]
  },
  {
   "cell_type": "code",
   "execution_count": 3,
   "id": "1cfe4f2d-b781-4577-a5e1-4836849b003c",
   "metadata": {},
   "outputs": [],
   "source": [
    "import pandas as pd\n",
    "import numpy as np \n",
    "import sys, os\n",
    "import random\n",
    "from random import randint \n",
    "deptree_module = '../src/'\n",
    "if deptree_module not in sys.path:\n",
    "    sys.path.append(deptree_module)\n",
    "from DepTree import DepTree"
   ]
  },
  {
   "cell_type": "code",
   "execution_count": 4,
   "id": "52dd007c-3bd8-48a4-bd47-a15ff28d9342",
   "metadata": {},
   "outputs": [
    {
     "data": {
      "text/html": [
       "<div>\n",
       "<style scoped>\n",
       "    .dataframe tbody tr th:only-of-type {\n",
       "        vertical-align: middle;\n",
       "    }\n",
       "\n",
       "    .dataframe tbody tr th {\n",
       "        vertical-align: top;\n",
       "    }\n",
       "\n",
       "    .dataframe thead th {\n",
       "        text-align: right;\n",
       "    }\n",
       "</style>\n",
       "<table border=\"1\" class=\"dataframe\">\n",
       "  <thead>\n",
       "    <tr style=\"text-align: right;\">\n",
       "      <th></th>\n",
       "      <th>Unnamed: 0</th>\n",
       "      <th>sentence</th>\n",
       "      <th>index</th>\n",
       "      <th>length</th>\n",
       "      <th>time</th>\n",
       "      <th>rating</th>\n",
       "      <th>word_seg</th>\n",
       "      <th>pos</th>\n",
       "      <th>dependency_parse</th>\n",
       "    </tr>\n",
       "  </thead>\n",
       "  <tbody>\n",
       "    <tr>\n",
       "      <th>0</th>\n",
       "      <td>0</td>\n",
       "      <td>酸辣湯是酸甜口感</td>\n",
       "      <td>1</td>\n",
       "      <td>8</td>\n",
       "      <td>1年前</td>\n",
       "      <td>3</td>\n",
       "      <td>[酸辣湯, 是, 酸甜, 口感]</td>\n",
       "      <td>[(0, root root), (1, 酸辣湯 Na), (2, 是 SHI), (3, ...</td>\n",
       "      <td>[(2 - 是 SHI, 1 - 酸辣湯 Na, amod), (0 - root root...</td>\n",
       "    </tr>\n",
       "    <tr>\n",
       "      <th>1</th>\n",
       "      <td>1</td>\n",
       "      <td>牛肉湯麵的湯有點太鹹了</td>\n",
       "      <td>1</td>\n",
       "      <td>11</td>\n",
       "      <td>1年前</td>\n",
       "      <td>3</td>\n",
       "      <td>[牛肉湯麵, 的, 湯, 有點, 太, 鹹, 了]</td>\n",
       "      <td>[(0, root root), (1, 牛肉湯麵 Na), (2, 的 DE), (3, ...</td>\n",
       "      <td>[(6 - 鹹 VH, 1 - 牛肉湯麵 Na, nn), (4 - 有點 Dfa, 2 -...</td>\n",
       "    </tr>\n",
       "  </tbody>\n",
       "</table>\n",
       "</div>"
      ],
      "text/plain": [
       "   Unnamed: 0     sentence  index  length time  rating  \\\n",
       "0           0     酸辣湯是酸甜口感      1       8  1年前       3   \n",
       "1           1  牛肉湯麵的湯有點太鹹了      1      11  1年前       3   \n",
       "\n",
       "                    word_seg  \\\n",
       "0           [酸辣湯, 是, 酸甜, 口感]   \n",
       "1  [牛肉湯麵, 的, 湯, 有點, 太, 鹹, 了]   \n",
       "\n",
       "                                                 pos  \\\n",
       "0  [(0, root root), (1, 酸辣湯 Na), (2, 是 SHI), (3, ...   \n",
       "1  [(0, root root), (1, 牛肉湯麵 Na), (2, 的 DE), (3, ...   \n",
       "\n",
       "                                    dependency_parse  \n",
       "0  [(2 - 是 SHI, 1 - 酸辣湯 Na, amod), (0 - root root...  \n",
       "1  [(6 - 鹹 VH, 1 - 牛肉湯麵 Na, nn), (4 - 有點 Dfa, 2 -...  "
      ]
     },
     "execution_count": 4,
     "metadata": {},
     "output_type": "execute_result"
    }
   ],
   "source": [
    "filepath = f'../data/0705-special-cases/0705-dep-testdata_parsed.pkl'\n",
    "filepath2 = f'../data/0628-beef-noodles/review_clean_parsed.pkl'\n",
    "df = pd.read_pickle(filepath)\n",
    "                 # converters=\n",
    "                 # {'word_seg': pd.eval, 'pos': pd.eval, 'dependency_parse':pd.eval})\n",
    "df2 = pd.read_pickle(filepath2)\n",
    "                 # converters=\n",
    "                 # {'word_seg': pd.eval, 'pos': pd.eval, 'dependency_parse':pd.eval})\n",
    "df2.head(2)"
   ]
  },
  {
   "cell_type": "code",
   "execution_count": 5,
   "id": "664dca73-6d4d-4c61-9c02-9b35cafddd30",
   "metadata": {},
   "outputs": [
    {
     "name": "stderr",
     "output_type": "stream",
     "text": [
      "INFO:root:== DepTree ==\n",
      "INFO:root:attrs:    \t .pos, .ws, .depparse, .dG, .undG\n",
      "INFO:root:functions:\t detect(), get_all_sp(), to_image()\n",
      "INFO:root:finished loading aspect lexicon.\n",
      "INFO:root:finished loading opinion lexicon.\n"
     ]
    },
    {
     "name": "stdout",
     "output_type": "stream",
     "text": [
      "Current random index: 0\n",
      "不喜歡這家的榨菜肉絲麵\n"
     ]
    },
    {
     "name": "stderr",
     "output_type": "stream",
     "text": [
      "INFO:root:aspects:\t{'idx': [6], 'token': ['榨菜肉絲麵']}\n",
      "INFO:root:opinions:\t{'idx': [2], 'token': ['喜歡'], 'polarity': ['positive']}\n"
     ]
    },
    {
     "data": {
      "image/png": "[encoded data removed]",
      "text/plain": [
       "<IPython.core.display.Image object>"
      ]
     },
     "metadata": {},
     "output_type": "display_data"
    },
    {
     "name": "stdout",
     "output_type": "stream",
     "text": [
      "喜歡_2\n",
      "{'diPath': [(2, 6, 'nn')], 'treePath': ['6 - 榨菜肉絲麵 Na --> 2 - 喜歡 VK']}\n"
     ]
    }
   ],
   "source": [
    "rint = randint(0, len(df)-1) # 5麻辣水煮魚\n",
    "row = df.iloc[rint]\n",
    "print(f'Current random index: {rint}')\n",
    "print(row['sentence'])\n",
    "tree = DepTree(row)\n",
    "spD = tree.get_all_sp()\n",
    "tree.to_image()\n",
    "for k, v in spD.items():\n",
    "    print(k)\n",
    "    print(*v, sep = ' ')"
   ]
  },
  {
   "cell_type": "code",
   "execution_count": 6,
   "id": "6ac6dcf2-346d-4c14-9f15-935f2f012e00",
   "metadata": {},
   "outputs": [],
   "source": [
    "# d = pd.read_csv('../repo/src/lexicon/aspect_lexicon.csv')\n",
    "# new_row = {'Word': '大滷麵', 'type':'麵', 'source':'self-defined'}\n",
    "# d = d.append(new_row, ignore_index=True)\n",
    "# d.tail()\n",
    "# d.to_csv('../repo/src/lexicon/aspect_lexicon.csv', index = False)"
   ]
  },
  {
   "cell_type": "code",
   "execution_count": 7,
   "id": "3069c63b-a1c4-493a-90c1-69588ff3abb1",
   "metadata": {},
   "outputs": [],
   "source": [
    "# d = pd.read_csv('../repo/data/review_clean.csv')"
   ]
  },
  {
   "cell_type": "code",
   "execution_count": null,
   "id": "7bdeede3-ee3c-4542-b6d6-bfd616d88134",
   "metadata": {},
   "outputs": [],
   "source": []
  }
 ],
 "metadata": {
  "kernelspec": {
   "display_name": "Python 3",
   "language": "python",
   "name": "python3"
  },
  "language_info": {
   "codemirror_mode": {
    "name": "ipython",
    "version": 3
   },
   "file_extension": ".py",
   "mimetype": "text/x-python",
   "name": "python",
   "nbconvert_exporter": "python",
   "pygments_lexer": "ipython3",
   "version": "3.6.9"
  }
 },
 "nbformat": 4,
 "nbformat_minor": 5
}
