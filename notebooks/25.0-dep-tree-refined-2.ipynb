{
 "cells": [
  {
   "cell_type": "markdown",
   "id": "6521738a-f27a-47e1-be42-466fa8229cd7",
   "metadata": {},
   "source": [
    "## 25.0 Refining Chinese rule-based ABSA\n",
    "\n",
    "- Author: Nana (Ching Wen Yang)\n",
    "- Created at: 2022.08.01\n",
    "\n",
    "**Goals**\n",
    "- Refine by dependency by POS tags\n",
    "**Reference**\n",
    "- CKIP part of speech tagging scheme: https://ckip.iis.sinica.edu.tw/CKIP/paper/Sinica%20Corpus%20user%20manual.pdf\n",
    "    - Na: Common Noun\n",
    "    - Nb: Proper Noun\n",
    "    - Nc: Place Noun\n",
    "    - Nd: Time Noun\n"
   ]
  },
  {
   "cell_type": "code",
   "execution_count": 1,
   "id": "85b19ceb-002d-4894-8794-802055271b2e",
   "metadata": {},
   "outputs": [],
   "source": [
    "import sys, os\n",
    "import pandas as pd"
   ]
  },
  {
   "cell_type": "markdown",
   "id": "849d1221-d1aa-4378-b655-d8569e467bd3",
   "metadata": {},
   "source": [
    "### parsing sents to dep trees"
   ]
  },
  {
   "cell_type": "code",
   "execution_count": 2,
   "id": "2e0d11a3-8d36-4638-b0c1-174b574f2711",
   "metadata": {},
   "outputs": [],
   "source": [
    "%load_ext autoreload\n",
    "%autoreload 2"
   ]
  },
  {
   "cell_type": "code",
   "execution_count": 3,
   "id": "eb3da73b-bd15-4232-823a-bd839dd36b93",
   "metadata": {},
   "outputs": [
    {
     "name": "stdout",
     "output_type": "stream",
     "text": [
      "\u001b[1m\u001b[37msky                          \u001b[m  Wed Aug 24 15:32:02 2022  \u001b[1m\u001b[30m470.141.03\u001b[m\n",
      "\u001b[36m[0]\u001b[m \u001b[34mNVIDIA GeForce GTX 1080 Ti\u001b[m |\u001b[31m 25'C\u001b[m, \u001b[32m  0 %\u001b[m | \u001b[36m\u001b[1m\u001b[33m 5938\u001b[m / \u001b[33m11178\u001b[m MB | \u001b[1m\u001b[30mcindy\u001b[m(\u001b[33m1067M\u001b[m) \u001b[1m\u001b[30mcindy\u001b[m(\u001b[33m1111M\u001b[m) \u001b[1m\u001b[30mchyiin\u001b[m(\u001b[33m1947M\u001b[m) \u001b[1m\u001b[30mnana2929\u001b[m(\u001b[33m1811M\u001b[m)\n",
      "\u001b[36m[1]\u001b[m \u001b[34mNVIDIA GeForce GTX 1080 Ti\u001b[m |\u001b[31m 28'C\u001b[m, \u001b[32m  0 %\u001b[m | \u001b[36m\u001b[1m\u001b[33m 8915\u001b[m / \u001b[33m11178\u001b[m MB | \u001b[1m\u001b[30mchyiin\u001b[m(\u001b[33m8913M\u001b[m)\n",
      "\u001b[36m[2]\u001b[m \u001b[34mNVIDIA GeForce GTX 1080 Ti\u001b[m |\u001b[31m 27'C\u001b[m, \u001b[32m  0 %\u001b[m | \u001b[36m\u001b[1m\u001b[33m 3103\u001b[m / \u001b[33m11178\u001b[m MB | \u001b[1m\u001b[30mnana2929\u001b[m(\u001b[33m3101M\u001b[m)\n",
      "\u001b[36m[3]\u001b[m \u001b[34mNVIDIA GeForce GTX 1080 Ti\u001b[m |\u001b[31m 24'C\u001b[m, \u001b[32m  0 %\u001b[m | \u001b[36m\u001b[1m\u001b[33m    2\u001b[m / \u001b[33m11178\u001b[m MB |\n"
     ]
    }
   ],
   "source": [
    "!gpustat"
   ]
  },
  {
   "cell_type": "code",
   "execution_count": 3,
   "id": "80a65f25-aee3-4875-8fd8-1c77124cc5a8",
   "metadata": {},
   "outputs": [],
   "source": [
    "'''path of source codes'''\n",
    "\n",
    "root_path = '/share/home/nana2929/'\n",
    "DepTree_path = '/share/home/nana2929/repo/src/'\n",
    "for x in [root_path, DepTree_path]:\n",
    "    if x not in sys.path:\n",
    "        sys.path.append(x)\n",
    "\n",
    "import chyiin_ch_parser\n",
    "from chyiin_ch_parser import dependency_parser\n",
    "from DepTree import DepTree\n",
    "ch_parser = dependency_parser.chinese_parser(port=2022, device_id=2) # the port that server_process runs on "
   ]
  },
  {
   "cell_type": "markdown",
   "id": "e1e9cd82-3bad-44c6-b5e3-89d72619b971",
   "metadata": {},
   "source": [
    "\n",
    "'推薦苦瓜，但可以不要一直催人結帳嗎。', \n",
    "              '水餃和湯都不錯，但小菜不太好吃', '雞肉和大滷麵都不喜歡', '一顆的份量就好大一個，還吃的到干貝一絲一絲的',\n",
    "              '食物部分很讚！也很平價，薯餅塔很推薦，裡面還有牽長長的乳酪絲，泡菜燒肉蛋餅很入味',\n",
    "             '湯喝起來濃郁卻不膩，可以一口接一口喝。',\n",
    "             '整體吃下來口味偏鹹完全不需要加任何醬料，必須配很多飯才會爽。', \n",
    "              '宮保蝦球很辣，麻香。其他都好吃。',\n",
    "             '推薦的：鹹蛋苦瓜、煎豬肝、炒菜類、老皮嫩豆腐、松阪豬肉、金沙南瓜、炒海瓜子等',\n",
    "              '三杯中卷裡面的中卷很少，大多是薑片跟洋蔥，不過這個價格也是可以了。',\n",
    "              '口味稍偏重，每道菜的配料都很足，但超適合配飯，佐料自取吃到飽很貼心，有機會會再訪',\n",
    "              '出餐快、口味濃、氣氛佳，適合大吃大喝、放心喧嘩的好地方↖(^ω^)↗',\n",
    "             '最愛老皮嫩肉跟炒羊肉平價又好吃'"
   ]
  },
  {
   "cell_type": "code",
   "execution_count": 15,
   "id": "c62f99b3-57e2-4e1a-9f9e-0f85e5464527",
   "metadata": {},
   "outputs": [],
   "source": [
    "test_sents = [#'蛋黃酥和蘿蔔糕很好吃，清蒸鱸魚不太新鮮。老闆娘人很好。', \n",
    "              '清蒸鱸魚,不太新鮮?有點糟。老闆娘人很好。']  #comma-separated\n",
    "              #'清蒸鱸魚，不太新鮮。有點糟。老闆娘人很好。']  # peiod-separated"
   ]
  },
  {
   "cell_type": "code",
   "execution_count": 19,
   "id": "df4d7338-eaef-49a2-a7eb-4b87af5730d7",
   "metadata": {},
   "outputs": [],
   "source": [
    "store = {}\n",
    "for test_sent in test_sents:\n",
    "    ws, pos, deptree = ch_parser.output(test_sent)  \n",
    "    store[test_sent] = (ws, pos, deptree)"
   ]
  },
  {
   "cell_type": "markdown",
   "id": "e7aefa84-87e5-4b0a-a15e-2dc01272918b",
   "metadata": {
    "jp-MarkdownHeadingCollapsed": true,
    "tags": []
   },
   "source": [
    "### 0628爬的松園牛肉麵評論"
   ]
  },
  {
   "cell_type": "code",
   "execution_count": 7,
   "id": "ea6bac0f-0efb-462e-8e14-913f5b15d42a",
   "metadata": {},
   "outputs": [],
   "source": [
    "filepath = f'../data/0628-beef-noodles/review_clean_parsed.pkl'\n",
    "df = pd.read_pickle(filepath)"
   ]
  },
  {
   "cell_type": "code",
   "execution_count": 8,
   "id": "f5a87552-14d8-4cdc-a2f6-852e2ec6d58b",
   "metadata": {},
   "outputs": [
    {
     "name": "stdout",
     "output_type": "stream",
     "text": [
      "30\n",
      "[(0, 'root root'), (1, '這 Nep'), (2, '絕對 D'), (3, '是 SHI'), (4, '我 Nh'), (5, '這 Nep'), (6, '輩子 Na'), (7, '吃 VC'), (8, '過 Di'), (9, '最 Dfa'), (10, '難吃 VH'), (11, '的 DE'), (12, '牛肉 Na'), (13, '麵 Na')]\n",
      "[('3 - 是 SHI', '1 - 這 Nep', 'nsubj'), ('3 - 是 SHI', '2 - 絕對 D', 'advmod'), ('0 - root root', '3 - 是 SHI', 'root'), ('7 - 吃 VC', '4 - 我 Nh', 'nsubj'), ('6 - 輩子 Na', '5 - 這 Nep', 'det'), ('7 - 吃 VC', '6 - 輩子 Na', 'dep'), ('13 - 麵 Na', '7 - 吃 VC', 'rcmod'), ('7 - 吃 VC', '8 - 過 Di', 'asp'), ('10 - 難吃 VH', '9 - 最 Dfa', 'advmod'), ('13 - 麵 Na', '10 - 難吃 VH', 'advmod'), ('10 - 難吃 VH', '11 - 的 DE', 'cpm'), ('3 - 是 SHI', '12 - 牛肉 Na', 'attr'), ('3 - 是 SHI', '13 - 麵 Na', 'attr')]\n"
     ]
    },
    {
     "ename": "TypeError",
     "evalue": "__init__() missing 1 required positional argument: 'logfile'",
     "output_type": "error",
     "traceback": [
      "\u001b[0;31m---------------------------------------------------------------------------\u001b[0m",
      "\u001b[0;31mTypeError\u001b[0m                                 Traceback (most recent call last)",
      "\u001b[0;32m<ipython-input-8-64bdf15a4eec>\u001b[0m in \u001b[0;36m<module>\u001b[0;34m\u001b[0m\n\u001b[1;32m     12\u001b[0m \u001b[0mprint\u001b[0m\u001b[0;34m(\u001b[0m\u001b[0mrow\u001b[0m\u001b[0;34m[\u001b[0m\u001b[0;34m'pos'\u001b[0m\u001b[0;34m]\u001b[0m\u001b[0;34m)\u001b[0m\u001b[0;34m\u001b[0m\u001b[0;34m\u001b[0m\u001b[0m\n\u001b[1;32m     13\u001b[0m \u001b[0mprint\u001b[0m\u001b[0;34m(\u001b[0m\u001b[0mrow\u001b[0m\u001b[0;34m[\u001b[0m\u001b[0;34m'dependency_parse'\u001b[0m\u001b[0;34m]\u001b[0m\u001b[0;34m)\u001b[0m\u001b[0;34m\u001b[0m\u001b[0;34m\u001b[0m\u001b[0m\n\u001b[0;32m---> 14\u001b[0;31m \u001b[0mtree\u001b[0m \u001b[0;34m=\u001b[0m \u001b[0mDepTree\u001b[0m\u001b[0;34m(\u001b[0m\u001b[0mrow\u001b[0m\u001b[0;34m,\u001b[0m \u001b[0moutdir\u001b[0m \u001b[0;34m=\u001b[0m \u001b[0;34m'./'\u001b[0m\u001b[0;34m)\u001b[0m\u001b[0;34m\u001b[0m\u001b[0;34m\u001b[0m\u001b[0m\n\u001b[0m\u001b[1;32m     15\u001b[0m \u001b[0mtree\u001b[0m\u001b[0;34m.\u001b[0m\u001b[0mpredict\u001b[0m\u001b[0;34m(\u001b[0m\u001b[0;34m)\u001b[0m\u001b[0;34m\u001b[0m\u001b[0;34m\u001b[0m\u001b[0m\n",
      "\u001b[0;31mTypeError\u001b[0m: __init__() missing 1 required positional argument: 'logfile'"
     ]
    }
   ],
   "source": [
    "# s, (ws, pos, tree) = list(store.items())[8] # 不太好：5, # '其他 Neqa'不在我定義的Nouns裡\n",
    "# r = {'sentence': s,\n",
    "#     'word_seg': ws,\n",
    "#     'pos': pos, \n",
    "#     'dependency_parse': tree}\n",
    "filepath = f'../data/0628-beef-noodles/review_clean_parsed.pkl'\n",
    "import random \n",
    "rindex = random.randint(0, len(df)-1)\n",
    "print(rindex)\n",
    "df = pd.read_pickle(filepath) # 不是neg抓不出來...(parser給標籤的問題）\n",
    "row = df.iloc[rindex]\n",
    "print(row['pos'])\n",
    "print(row['dependency_parse'])\n",
    "tree = DepTree(row, outdir = './')\n",
    "tree.predict()"
   ]
  },
  {
   "cell_type": "markdown",
   "id": "579afe4f-9133-422c-bae2-ac65915f9d7d",
   "metadata": {
    "jp-MarkdownHeadingCollapsed": true,
    "tags": []
   },
   "source": [
    "### 0705 測試 negation, conjunction 用的自製評論"
   ]
  },
  {
   "cell_type": "code",
   "execution_count": null,
   "id": "c7c8a822-3378-4fcc-abb2-8a23181ea8a1",
   "metadata": {},
   "outputs": [],
   "source": [
    "import random\n",
    "filepath = f'../data/0705-special-cases/0705-dep-testdata_parsed.pkl' \n",
    "df = pd.read_pickle(filepath)\n",
    "rindex = random.randint(0, len(df)-1)\n",
    "print(rindex)\n",
    "row = df.iloc[rindex]\n",
    "print(row['pos'])\n",
    "print(row['dependency_parse'])\n",
    "tree = DepTree(row, outdir = './')\n",
    "tree.predict()"
   ]
  },
  {
   "cell_type": "code",
   "execution_count": null,
   "id": "a0a84142-4c8b-4b9b-b11b-bb8090a2c162",
   "metadata": {},
   "outputs": [],
   "source": [
    "tree.to_image()"
   ]
  },
  {
   "cell_type": "markdown",
   "id": "f90fd841-e90b-4b9e-b73e-58e4730fee9a",
   "metadata": {},
   "source": [
    "### 0801自己找的一些評論 \n",
    "老師的例子、Google上抓一些\n"
   ]
  },
  {
   "cell_type": "code",
   "execution_count": 20,
   "id": "306e9107-c4f8-459e-aabd-7ad5f5b86189",
   "metadata": {},
   "outputs": [
    {
     "data": {
      "text/plain": [
       "['清蒸鱸魚,不太新鮮?有點糟。老闆娘人很好。']"
      ]
     },
     "execution_count": 20,
     "metadata": {},
     "output_type": "execute_result"
    }
   ],
   "source": [
    "test_sents"
   ]
  },
  {
   "cell_type": "code",
   "execution_count": 21,
   "id": "b4ebcd30-4a62-45a1-8873-159695a1a6ea",
   "metadata": {},
   "outputs": [
    {
     "name": "stderr",
     "output_type": "stream",
     "text": [
      "DepTree|======= Dep Tree =======\n",
      "DepTree|finished loading aspect lexicon.\n",
      "DepTree|finished loading opinion lexicon.\n"
     ]
    },
    {
     "name": "stdout",
     "output_type": "stream",
     "text": [
      "rindex_ 0\n",
      "[(0, 'root root'), (1, '清蒸鱸魚 Na'), (2, ', COMMACATEGORY'), (3, '不 D'), (4, '太 Dfa'), (5, '新鮮 VH'), (6, '? QUESTIONCATEGORY'), (7, '有點 Dfa'), (8, '糟 VH'), (9, '。 PERIODCATEGORY'), (10, '老闆娘人 Na'), (11, '很 Dfa'), (12, '好 VH'), (13, '。 PERIODCATEGORY')]\n",
      "[('5 - 新鮮 VH', '1 - 清蒸鱸魚 Na', 'amod'), ('5 - 新鮮 VH', '2 - , COMMACATEGORY', 'punct'), ('5 - 新鮮 VH', '3 - 不 D', 'neg'), ('5 - 新鮮 VH', '4 - 太 Dfa', 'advmod'), ('0 - root root', '5 - 新鮮 VH', 'root'), ('5 - 新鮮 VH', '6 - ? QUESTIONCATEGORY', 'punct'), ('8 - 糟 VH', '7 - 有點 Dfa', 'advmod'), ('5 - 新鮮 VH', '8 - 糟 VH', 'dep'), ('5 - 新鮮 VH', '9 - 。 PERIODCATEGORY', 'punct'), ('12 - 好 VH', '10 - 老闆娘人 Na', 'nn'), ('12 - 好 VH', '11 - 很 Dfa', 'advmod'), ('5 - 新鮮 VH', '12 - 好 VH', 'conj'), ('5 - 新鮮 VH', '13 - 。 PERIODCATEGORY', 'punct')]\n",
      "清蒸鱸魚,不太新鮮?有點糟。老闆娘人很好。\n"
     ]
    },
    {
     "name": "stderr",
     "output_type": "stream",
     "text": [
      "DepTree|[lexicon-based] detected aspects: [{'id': 1, 'token': '清蒸鱸魚'}]\n",
      "DepTree|[lexicon-based] detected opinions: [{'id': 5, 'token': '新鮮', 'polarity': 'positive'}, {'id': 8, 'token': '糟', 'polarity': 'negative'}, {'id': 12, 'token': '好', 'polarity': 'positive'}]\n",
      "DepTree|[Rule 1] Detect NOUN neighbor in subtree;                             new aspect 清蒸鱸魚 is added.\n",
      "DepTree|[Rule 1] Detect NOUN neighbor in subtree;                             new aspect 老闆娘人 is added.\n",
      "DepTree|[Rule 5] Detected crossing boundary pair 清蒸鱸魚 and 好, ignore the pair.\n",
      "DepTree|[Rule 5] Detected crossing boundary pair 清蒸鱸魚 and 好, ignore the pair.\n",
      "DepTree|[Rule 3] Detect negation on 新鮮; polarity is reversed.\n"
     ]
    },
    {
     "name": "stdout",
     "output_type": "stream",
     "text": [
      "!neg_detect opn: [5]\n",
      "!neg_detect opn: [8]\n",
      "!neg_detect opn: [12]\n",
      "(defaultdict(<class 'list'>, {'清蒸鱸魚': [('不新鮮', 'negative'), ('糟', 'negative')], '老闆娘人': [('好', 'positive')]}), '[清蒸鱸魚],<不>太<新鮮>?有點<糟>。[老闆娘人]很<好>。')\n",
      "[9, 13]\n",
      "0 remaining handlers.\n"
     ]
    }
   ],
   "source": [
    "import random\n",
    "rindex_ = 0 # random.randint(0, len(test_sents)-1) \n",
    "print(f'rindex_ {rindex_}')\n",
    "s, (ws, pos, tree) = list(store.items())[rindex_] \n",
    "print(pos)\n",
    "print(tree)\n",
    "# good: 0 (老師給的例子), 1, 2, 5 (rule 1)\n",
    "# not so good: 4 ('其他 Neqa'不在我定義的Nouns裡), \n",
    "# not so good: 12 用文字距離去停止opinion-aspect太長距離的連結\n",
    "print(s)\n",
    "r = {'sentence': s,\n",
    "    'word_seg': ws,\n",
    "    'pos': pos, \n",
    "    'dependency_parse': tree}\n",
    "tree = DepTree(r, logfile = './25.5-test-dep/test.log', outdir = './25.5-test-dep')\n",
    "print(tree.predict())\n",
    "print(tree.periods)\n",
    "tree.clean_logging()\n",
    "# removing all handlers"
   ]
  },
  {
   "cell_type": "code",
   "execution_count": 19,
   "id": "1efbea58-52fe-49d5-a1a5-785db6127645",
   "metadata": {},
   "outputs": [
    {
     "name": "stdout",
     "output_type": "stream",
     "text": [
      "0 remaining handlers.\n"
     ]
    }
   ],
   "source": [
    "tree.clean_logging()"
   ]
  },
  {
   "cell_type": "code",
   "execution_count": 22,
   "id": "eb656907-6927-4b57-b2a5-765e6407cbef",
   "metadata": {},
   "outputs": [
    {
     "data": {
      "image/png": "[encoded data removed]",
      "text/plain": [
       "<IPython.core.display.Image object>"
      ]
     },
     "metadata": {},
     "output_type": "display_data"
    }
   ],
   "source": [
    "tree.to_image()"
   ]
  },
  {
   "cell_type": "markdown",
   "id": "12a5beaf-fb61-4c78-a463-4ceb091a70d9",
   "metadata": {},
   "source": [
    "### output"
   ]
  },
  {
   "cell_type": "code",
   "execution_count": null,
   "id": "53bb7e47-7bdf-4284-a45d-8ac8f24dc1e7",
   "metadata": {},
   "outputs": [],
   "source": [
    "# 做成dictionary"
   ]
  },
  {
   "cell_type": "markdown",
   "id": "aa5ff183-e61a-4cc5-a324-fca6ed4034cb",
   "metadata": {},
   "source": [
    "### test subtree algorithms"
   ]
  },
  {
   "cell_type": "code",
   "execution_count": null,
   "id": "1e0be3e3-a615-4705-86e8-dd6dccdc66e5",
   "metadata": {},
   "outputs": [],
   "source": [
    "from networkx.algorithms.traversal.depth_first_search import dfs_tree\n",
    "print(tree.nodes)\n",
    "subtree_at3 = dfs_tree(tree.dG, 3) # 好吃\n",
    "subtree_at7 = dfs_tree(tree.dG, 7) # 好"
   ]
  },
  {
   "cell_type": "code",
   "execution_count": null,
   "id": "06aec601-fb98-4b9c-b3d8-7dd748c421c7",
   "metadata": {},
   "outputs": [],
   "source": [
    "# test subtree \n",
    "subtree_at3.nodes"
   ]
  },
  {
   "cell_type": "code",
   "execution_count": null,
   "id": "f727d554-73ba-4e1d-9de3-d3d4c5f12295",
   "metadata": {},
   "outputs": [],
   "source": [
    "subtree_at7.nodes"
   ]
  }
 ],
 "metadata": {
  "kernelspec": {
   "display_name": "Python 3",
   "language": "python",
   "name": "python3"
  },
  "language_info": {
   "codemirror_mode": {
    "name": "ipython",
    "version": 3
   },
   "file_extension": ".py",
   "mimetype": "text/x-python",
   "name": "python",
   "nbconvert_exporter": "python",
   "pygments_lexer": "ipython3",
   "version": "3.6.9"
  }
 },
 "nbformat": 4,
 "nbformat_minor": 5
}
