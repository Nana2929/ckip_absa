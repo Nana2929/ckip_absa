{
 "cells": [
  {
   "cell_type": "markdown",
   "id": "b4a7a7b6-0043-4baf-b175-d763fb513e3d",
   "metadata": {},
   "source": [
    "## 10.0 Dep Relation Extraction\n",
    "- Dealing with special cases \n"
   ]
  },
  {
   "cell_type": "code",
   "execution_count": 1,
   "id": "f5cbf5d6-75e1-4458-9070-d08ed87000f7",
   "metadata": {},
   "outputs": [],
   "source": [
    "%load_ext autoreload\n",
    "%autoreload 2"
   ]
  },
  {
   "cell_type": "code",
   "execution_count": 3,
   "id": "386d31d8-b1ef-45f4-92c7-bfa8d83f735b",
   "metadata": {},
   "outputs": [],
   "source": [
    "import pandas as pd\n",
    "import numpy as np \n",
    "import sys, os\n",
    "import random\n",
    "from random import randint \n",
    "deptree_module = '../src/'\n",
    "if deptree_module not in sys.path:\n",
    "    sys.path.append(deptree_module)\n",
    "from DepTree import DepTree"
   ]
  },
  {
   "cell_type": "code",
   "execution_count": 4,
   "id": "d19edbf6-a985-47d4-a5d1-1c5f361d6975",
   "metadata": {},
   "outputs": [],
   "source": [
    "filepath = f'../data/0705-special-cases/0705-dep-testdata_parsed.pkl'\n",
    "df = pd.read_pickle(filepath)"
   ]
  },
  {
   "cell_type": "code",
   "execution_count": 12,
   "id": "276901ff-2f04-406b-9fef-73f8f505e90c",
   "metadata": {},
   "outputs": [
    {
     "name": "stderr",
     "output_type": "stream",
     "text": [
      "INFO:root:== DepTree ==\n",
      "INFO:root:attrs:    \t .pos, .ws, .depparse, .dG, .undG\n",
      "INFO:root:functions:\t detect(), get_all_sp(), to_image()\n",
      "INFO:root:finished loading aspect lexicon.\n",
      "INFO:root:finished loading opinion lexicon.\n"
     ]
    },
    {
     "name": "stdout",
     "output_type": "stream",
     "text": [
      "Current random index: 8\n",
      "水餃和排骨麵超級好吃\n"
     ]
    },
    {
     "name": "stderr",
     "output_type": "stream",
     "text": [
      "INFO:root:aspects:\t{'idx': [1, 3], 'token': ['水餃', '排骨麵']}\n",
      "INFO:root:opinions:\t{'idx': [5], 'token': ['好吃'], 'polarity': ['positive']}\n"
     ]
    },
    {
     "data": {
      "image/png": "[encoded data removed]",
      "text/plain": [
       "<IPython.core.display.Image object>"
      ]
     },
     "metadata": {},
     "output_type": "display_data"
    },
    {
     "name": "stdout",
     "output_type": "stream",
     "text": [
      "排骨麵\n"
     ]
    }
   ],
   "source": [
    "rint = randint(0, len(df)-1) # 5麻辣水煮魚 \n",
    "row = df.iloc[rint]\n",
    "print(f'Current random index: {rint}')\n",
    "print(row['sentence'])\n",
    "tree = DepTree(row)\n",
    "pred = tree.predict()\n",
    "tree.to_image()\n",
    "print(pred)"
   ]
  },
  {
   "cell_type": "code",
   "execution_count": 6,
   "id": "9f5e9491-54be-4cbe-9549-bec2ff0e4a7d",
   "metadata": {},
   "outputs": [
    {
     "ename": "SyntaxError",
     "evalue": "unexpected EOF while parsing (<ipython-input-6-5c4efeaab3c1>, line 10)",
     "output_type": "error",
     "traceback": [
      "\u001b[0;36m  File \u001b[0;32m\"<ipython-input-6-5c4efeaab3c1>\"\u001b[0;36m, line \u001b[0;32m10\u001b[0m\n\u001b[0;31m    \u001b[0m\n\u001b[0m    ^\u001b[0m\n\u001b[0;31mSyntaxError\u001b[0m\u001b[0;31m:\u001b[0m unexpected EOF while parsing\n"
     ]
    }
   ],
   "source": [
    "# all \n",
    "# find conj edge \n",
    "G = tree.dG\n",
    "edges = G.edges\n",
    "for u, v in edges:\n",
    "    depr = G[u][v]['label']\n",
    "    # if conjunction edge is present \n",
    "    if depr == 'conj':\n",
    "        pass\n",
    "        # link both aspects to the same opinion\n",
    "        "
   ]
  },
  {
   "cell_type": "code",
   "execution_count": null,
   "id": "55ab02e5-4b2d-4655-ba09-65549ff02b42",
   "metadata": {},
   "outputs": [],
   "source": []
  }
 ],
 "metadata": {
  "kernelspec": {
   "display_name": "Python 3",
   "language": "python",
   "name": "python3"
  },
  "language_info": {
   "codemirror_mode": {
    "name": "ipython",
    "version": 3
   },
   "file_extension": ".py",
   "mimetype": "text/x-python",
   "name": "python",
   "nbconvert_exporter": "python",
   "pygments_lexer": "ipython3",
   "version": "3.6.9"
  }
 },
 "nbformat": 4,
 "nbformat_minor": 5
}
